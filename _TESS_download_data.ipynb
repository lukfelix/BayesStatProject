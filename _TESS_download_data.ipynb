{
 "cells": [
  {
   "cell_type": "markdown",
   "metadata": {},
   "source": [
    "# Lcviz Notebook\n",
    "This is an auto-generated Jupyter notebook to access the product file(s) **tess2022244194134-s0056-0000000420814525-0243-s_lc.fits** using the\n",
    "[Lcviz](https://lcviz.readthedocs.io/en/latest/) Python package. \n",
    "\n",
    "### Required Packages\n",
    "This notebook requires the `lcviz` and `astroquery` Python packages.\n",
    "To install or update `lcviz`, please run:\n",
    "\n",
    "`pip install -U lcviz`\n",
    "\n",
    "to install the latest version.  This notebook attempts to download the data using\n",
    "[astroquery](https://astroquery.readthedocs.io/en/latest/), and requires `astroquery >= 0.4.3`.\n",
    "To install or update `astroquery`, please run:\n",
    "\n",
    "`pip install -U astroquery`\n",
    "\n",
    "### MAST Authentication\n",
    "If the data are not public, it will attempt to authenticate using your MAST API authentication token. If you do not have one,\n",
    "see [MAST Auth Info](https://auth.mast.stsci.edu/info) to learn how to create a new token. After creating a valid auth token,\n",
    "set it to a new environment variable called **MAST_API_TOKEN**.  You can do this either in this notebook using\n",
    "[os.environ](https://docs.python.org/3/library/os.html#os.environ) or by setting the environment variable in your terminal shell\n",
    "environment and restarting this notebook.\n",
    "\n",
    "### Running this notebook\n",
    "To open this notebook, open a terminal and navigate to the directory where this file is located.  Run the following command:\n",
    "\n",
    "`jupyter notebook lcviz_notebook_tess2022244194134-s0056-0000000420814525-0243-s_lc.fits.ipynb`\n",
    "\n",
    "Once open you can run the individual cells below by selecting a cell and hitting `shift+enter`.  Or run all cells by\n",
    "clicking \"Cell -> Run All\" from the menu above.\n"
   ]
  },
  {
   "cell_type": "markdown",
   "metadata": {},
   "source": []
  },
  {
   "cell_type": "code",
   "execution_count": 4,
   "metadata": {},
   "outputs": [],
   "source": [
    "import os\n",
    "from astroquery.mast import Observations\n",
    "from lcviz import LCviz"
   ]
  },
  {
   "cell_type": "code",
   "execution_count": 5,
   "metadata": {},
   "outputs": [
    {
     "name": "stdout",
     "output_type": "stream",
     "text": [
      "INFO: If you do not have an API token already, visit the following link to create one: https://auth.mast.stsci.edu/token?suggested_name=Astroquery&suggested_scope=mast:exclusive_access [astroquery.mast.auth]\n",
      "INFO: MAST API token accepted, welcome Ryan Meierhofer [astroquery.mast.auth]\n",
      "Downloading URL https://mast.stsci.edu/api/v0.1/Download/file?uri=mast:tess/product/tess2022244194134-s0056-0000000420814525-0243-s_lc.fits to /Users/ryan/Documents/ETH MSc/Bayesian Statistics & Data Analysis/Course_Group_Project/BayesStatProject/tess2022244194134-s0056-0000000420814525-0243-s_lc.fits ... [Done]\n"
     ]
    }
   ],
   "source": [
    "# get authentication token and login  --> Can use my token: f98926f9e104429d8ea2771d4828de25\n",
    "auth_token = os.environ.get('MAST_API_TOKEN', None)\n",
    "Observations.login(auth_token)\n",
    "\n",
    "# download the data file\n",
    "uri = f\"mast:tess/product/tess2022244194134-s0056-0000000420814525-0243-s_lc.fits\"\n",
    "result = Observations.download_file(uri, base_url='https://mast.stsci.edu/api/v0.1/Download/file')\n",
    "if result[0] == 'ERROR':\n",
    "    raise RuntimeError('Error retrieving file: ' + result[1])"
   ]
  },
  {
   "cell_type": "code",
   "execution_count": 6,
   "metadata": {},
   "outputs": [],
   "source": [
    "# construct the local filepath to load into Lcviz\n",
    "local = os.path.join(os.path.abspath('.'), uri.rsplit('/', 1)[-1])"
   ]
  },
  {
   "cell_type": "code",
   "execution_count": 7,
   "metadata": {},
   "outputs": [
    {
     "data": {
      "application/vnd.jupyter.widget-view+json": {
       "model_id": "6a56343c456f433b868bd54e7abb700b",
       "version_major": 2,
       "version_minor": 0
      },
      "text/plain": [
       "Application(config='lcviz', docs_link='https://lcviz.readthedocs.io/en/v0.4.3', events=['call_viewer_method', …"
      ]
     },
     "metadata": {},
     "output_type": "display_data"
    }
   ],
   "source": [
    "# load the data file and display\n",
    "h = LCviz()\n",
    "h.load_data(local)\n",
    "h.show()"
   ]
  },
  {
   "cell_type": "code",
   "execution_count": null,
   "metadata": {},
   "outputs": [],
   "source": [
    "data = h.get_data()\n",
    "data.to_csv('outputs/data_TESS/data.csv')"
   ]
  }
 ],
 "metadata": {
  "kernelspec": {
   "display_name": "stats_course",
   "language": "python",
   "name": "python3"
  },
  "language_info": {
   "codemirror_mode": {
    "name": "ipython",
    "version": 3
   },
   "file_extension": ".py",
   "mimetype": "text/x-python",
   "name": "python",
   "nbconvert_exporter": "python",
   "pygments_lexer": "ipython3",
   "version": "3.12.7"
  }
 },
 "nbformat": 4,
 "nbformat_minor": 2
}
